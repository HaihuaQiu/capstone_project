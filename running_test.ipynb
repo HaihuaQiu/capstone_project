{
 "cells": [
  {
   "cell_type": "code",
   "execution_count": 1,
   "metadata": {
    "colab": {
     "base_uri": "https://localhost:8080/",
     "height": 121
    },
    "colab_type": "code",
    "executionInfo": {
     "elapsed": 28043,
     "status": "ok",
     "timestamp": 1559001838276,
     "user": {
      "displayName": "haihua qiu",
      "photoUrl": "",
      "userId": "17771385401655364412"
     },
     "user_tz": -480
    },
    "id": "HdiE1W9OoC4n",
    "outputId": "6dd9570d-0cf0-4984-fccc-ea99dc750ae7"
   },
   "outputs": [
    {
     "ename": "ModuleNotFoundError",
     "evalue": "No module named 'google.colab'",
     "output_type": "error",
     "traceback": [
      "\u001b[1;31m---------------------------------------------------------------------------\u001b[0m",
      "\u001b[1;31mModuleNotFoundError\u001b[0m                       Traceback (most recent call last)",
      "\u001b[1;32m<ipython-input-1-21d811c290a8>\u001b[0m in \u001b[0;36m<module>\u001b[1;34m()\u001b[0m\n\u001b[1;32m----> 1\u001b[1;33m \u001b[1;32mfrom\u001b[0m \u001b[0mgoogle\u001b[0m\u001b[1;33m.\u001b[0m\u001b[0mcolab\u001b[0m \u001b[1;32mimport\u001b[0m \u001b[0mdrive\u001b[0m\u001b[1;33m\u001b[0m\u001b[0m\n\u001b[0m\u001b[0;32m      2\u001b[0m \u001b[0mdrive\u001b[0m\u001b[1;33m.\u001b[0m\u001b[0mmount\u001b[0m\u001b[1;33m(\u001b[0m\u001b[1;34m'/content/drive'\u001b[0m\u001b[1;33m)\u001b[0m\u001b[1;33m\u001b[0m\u001b[0m\n\u001b[0;32m      3\u001b[0m \u001b[1;32mimport\u001b[0m \u001b[0mos\u001b[0m\u001b[1;33m\u001b[0m\u001b[0m\n\u001b[0;32m      4\u001b[0m \u001b[0mos\u001b[0m\u001b[1;33m.\u001b[0m\u001b[0mchdir\u001b[0m\u001b[1;33m(\u001b[0m\u001b[1;34m\"/content/drive/My Drive/capstone_project\"\u001b[0m\u001b[1;33m)\u001b[0m\u001b[1;33m\u001b[0m\u001b[0m\n",
      "\u001b[1;31mModuleNotFoundError\u001b[0m: No module named 'google.colab'"
     ]
    }
   ],
   "source": [
    "from google.colab import drive\n",
    "drive.mount('/content/drive')\n",
    "import os\n",
    "os.chdir(\"/content/drive/My Drive/capstone_project\")"
   ]
  },
  {
   "cell_type": "markdown",
   "metadata": {
    "colab_type": "text",
    "id": "07DTOMUYFG2A"
   },
   "source": [
    "import所需要的调用包"
   ]
  },
  {
   "cell_type": "code",
   "execution_count": 0,
   "metadata": {
    "colab": {},
    "colab_type": "code",
    "id": "jWSKh5lB2c0z"
   },
   "outputs": [],
   "source": [
    "from crnn_model import train\n",
    "import pandas as pd\n",
    "import numpy as np\n",
    "from dataset_util import *\n",
    "from util import *\n",
    "import os \n",
    "import matplotlib.pylab as plt\n",
    "%matplotlib inline\n",
    "%reload_ext autoreload\n",
    "%autoreload 2"
   ]
  },
  {
   "cell_type": "markdown",
   "metadata": {
    "colab_type": "text",
    "id": "SoI6vQ2fFTM_"
   },
   "source": [
    "分类的类型数有16种字符加1种"
   ]
  },
  {
   "cell_type": "code",
   "execution_count": 0,
   "metadata": {
    "colab": {
     "base_uri": "https://localhost:8080/",
     "height": 34
    },
    "colab_type": "code",
    "executionInfo": {
     "elapsed": 8535,
     "status": "ok",
     "timestamp": 1559001845142,
     "user": {
      "displayName": "haihua qiu",
      "photoUrl": "",
      "userId": "17771385401655364412"
     },
     "user_tz": -480
    },
    "id": "dylUrxKDoC4w",
    "outputId": "b45e2829-76c6-4789-8d0f-9bb609fda442"
   },
   "outputs": [
    {
     "name": "stdout",
     "output_type": "stream",
     "text": [
      "{'0': 0, '1': 1, '2': 2, '3': 3, '4': 4, '5': 5, '6': 6, '7': 7, '8': 8, '9': 9, '+': 10, '-': 11, '*': 12, '=': 13, '(': 14, ')': 15}\n"
     ]
    }
   ],
   "source": [
    "num_class = 10 + 6 + 2\n",
    "map_class={}\n",
    "keys = '0123456789+-*=()'\n",
    "for i in range(len('0123456789+-*=()')):\n",
    "    map_class[keys[i]]=i\n",
    "print(map_class)"
   ]
  },
  {
   "cell_type": "markdown",
   "metadata": {
    "colab_type": "text",
    "id": "TK4Wb7dzFjEU"
   },
   "source": [
    "把10万张图片和算式标签转换成tfrecord文件，方便数据的调用"
   ]
  },
  {
   "cell_type": "code",
   "execution_count": 0,
   "metadata": {
    "colab": {
     "base_uri": "https://localhost:8080/",
     "height": 134
    },
    "colab_type": "code",
    "executionInfo": {
     "elapsed": 95474,
     "status": "ok",
     "timestamp": 1557462246592,
     "user": {
      "displayName": "haihua qiu",
      "photoUrl": "",
      "userId": "17771385401655364412"
     },
     "user_tz": -480
    },
    "id": "zAxag4jhoC4z",
    "outputId": "c741f546-b104-4e3b-dbe7-6f1cf379316c",
    "scrolled": false
   },
   "outputs": [
    {
     "name": "stdout",
     "output_type": "stream",
     "text": [
      "(100000, 32, 150, 3)\n",
      "Reading labels\n",
      "half done!\n",
      "Writing data/train.tfrecord\n",
      "Writing data/validation.tfrecord\n",
      "Writing data/test.tfrecord\n",
      "Writing data/dataset.tfrecord\n"
     ]
    }
   ],
   "source": [
    "make_tfrecord()"
   ]
  },
  {
   "cell_type": "markdown",
   "metadata": {
    "colab_type": "text",
    "id": "KBzNuU9NFyk_"
   },
   "source": [
    "通过验证tfrecord文件中随机一张图片和对应标签是否一致来确定tfrecord文件中的图片集和标签集之间正确的对应关系"
   ]
  },
  {
   "cell_type": "code",
   "execution_count": 0,
   "metadata": {
    "colab": {
     "base_uri": "https://localhost:8080/",
     "height": 203
    },
    "colab_type": "code",
    "executionInfo": {
     "elapsed": 4587,
     "status": "ok",
     "timestamp": 1558870193498,
     "user": {
      "displayName": "haihua qiu",
      "photoUrl": "",
      "userId": "17771385401655364412"
     },
     "user_tz": -480
    },
    "id": "RIjbYizHoC43",
    "outputId": "314f91ed-82ef-4de3-b97a-4dbe2bd5e353"
   },
   "outputs": [
    {
     "name": "stdout",
     "output_type": "stream",
     "text": [
      "WARNING:tensorflow:From /usr/local/lib/python3.6/dist-packages/tensorflow/python/data/ops/dataset_ops.py:1419: colocate_with (from tensorflow.python.framework.ops) is deprecated and will be removed in a future version.\n",
      "Instructions for updating:\n",
      "Colocations handled automatically by placer.\n",
      "100\n"
     ]
    },
    {
     "data": {
      "text/plain": [
       "Text(0.5, 1.0, '7-(0-8)=15')"
      ]
     },
     "execution_count": 4,
     "metadata": {
      "tags": []
     },
     "output_type": "execute_result"
    },
    {
     "data": {
      "image/png": "[encoded data removed]",
      "text/plain": [
       "<Figure size 720x576 with 3 Axes>"
      ]
     },
     "metadata": {
      "tags": []
     },
     "output_type": "display_data"
    }
   ],
   "source": [
    "tf.reset_default_graph()\n",
    "dataset = batch_data( 'validation', num_epoch=1, batchsize=100)\n",
    "iterator = dataset.make_initializable_iterator()\n",
    "next_element = iterator.get_next()\n",
    "sess = tf.Session()\n",
    "sess.run(iterator.initializer)\n",
    "image, label = sess.run(next_element)\n",
    "label = [l.decode() for l in label]\n",
    "print(len(label))\n",
    "#label = transferlabeltoInt(label)\n",
    "#label = decode_sparse_tensor(label)\n",
    "plt.rcParams['figure.figsize'] = (10.0, 8.0)\n",
    "plt.rcParams['image.interpolation'] = 'nearest'\n",
    "plt.rcParams['image.cmap'] = 'gray'\n",
    "plt.subplot(1, 3, 1)\n",
    "plt.imshow(image[50].astype('uint8'))\n",
    "plt.axis('off')\n",
    "plt.title(label[50])\n",
    "plt.subplot(1, 3, 2)\n",
    "plt.imshow(image[51].astype('uint8'))\n",
    "plt.axis('off')\n",
    "plt.title(label[51])\n",
    "plt.subplot(1, 3, 3)\n",
    "plt.imshow(image[52].astype('uint8'))\n",
    "plt.axis('off')\n",
    "plt.title(label[52])"
   ]
  },
  {
   "cell_type": "markdown",
   "metadata": {
    "colab_type": "text",
    "id": "T-VtJJNpGKBD"
   },
   "source": [
    "对训练集，验证集，测试集中的字符数量进行统计"
   ]
  },
  {
   "cell_type": "code",
   "execution_count": 0,
   "metadata": {
    "colab": {
     "base_uri": "https://localhost:8080/",
     "height": 35
    },
    "colab_type": "code",
    "executionInfo": {
     "elapsed": 16187,
     "status": "ok",
     "timestamp": 1559006754040,
     "user": {
      "displayName": "haihua qiu",
      "photoUrl": "",
      "userId": "17771385401655364412"
     },
     "user_tz": -480
    },
    "id": "2JQ1_GSXEtG_",
    "outputId": "566bf48b-0ff7-4a4d-8f77-3402afc9ded2"
   },
   "outputs": [
    {
     "name": "stdout",
     "output_type": "stream",
     "text": [
      "{'0': 4742, '1': 6252, '2': 5172, '3': 4425, '4': 4520, '5': 4265, '6': 4305, '7': 3889, '8': 3973, '9': 3676, '+': 6621, '-': 8881, '*': 6754, '=': 10000, '(': 6686, ')': 6686}\n"
     ]
    }
   ],
   "source": [
    "from collections import defaultdict\n",
    "\n",
    "def char_num_dict(datatype, batchsize=1000):\n",
    "  map_char_num=defaultdict(int)\n",
    "  tf.reset_default_graph()\n",
    "  dataset = batch_data( datatype, batchsize=batchsize,num_epoch=1 )\n",
    "  iterator = dataset.make_initializable_iterator()\n",
    "  next_element = iterator.get_next()\n",
    "  sess = tf.Session()\n",
    "  sess.run(iterator.initializer)\n",
    "  while True:\n",
    "    try:\n",
    "      image, label = sess.run(next_element)\n",
    "      label = [l.decode() for l in label]\n",
    "      for stri in label:\n",
    "        for c in stri:\n",
    "          map_char_num[c] +=1\n",
    "    except tf.errors.OutOfRangeError:\n",
    "      break \n",
    "  return map_char_num\n",
    "\n",
    "keys = '0123456789+-*=()'\n",
    "train_char_num = char_num_dict('training')\n",
    "sorted_train_dict = {x:train_char_num[x] for x in keys}\n",
    "valid_char_num = char_num_dict('validation')\n",
    "sorted_valid_dict = {x:valid_char_num[x] for x in keys}\n",
    "test_char_num = char_num_dict('test')\n",
    "sorted_test_dict = {x:test_char_num[x] for x in keys}\n",
    "print(sorted_valid_dict)"
   ]
  },
  {
   "cell_type": "markdown",
   "metadata": {
    "colab_type": "text",
    "id": "SFII01I9GXgT"
   },
   "source": [
    "把三种数据集的字符数量统计结果同时画在一张柱状图中以便于比较。"
   ]
  },
  {
   "cell_type": "code",
   "execution_count": 0,
   "metadata": {
    "colab": {
     "base_uri": "https://localhost:8080/",
     "height": 585
    },
    "colab_type": "code",
    "executionInfo": {
     "elapsed": 2348,
     "status": "ok",
     "timestamp": 1559007455406,
     "user": {
      "displayName": "haihua qiu",
      "photoUrl": "",
      "userId": "17771385401655364412"
     },
     "user_tz": -480
    },
    "id": "zaFaRLWcE0Bs",
    "outputId": "fe7e79d6-787a-4cef-ccdd-b86e71db18d0"
   },
   "outputs": [
    {
     "data": {
      "image/png": "[encoded data removed]",
      "text/plain": [
       "<Figure size 720x576 with 1 Axes>"
      ]
     },
     "metadata": {
      "tags": []
     },
     "output_type": "display_data"
    }
   ],
   "source": [
    "import matplotlib.pylab as plt\n",
    "plt.rcParams['figure.figsize'] = (10.0, 8.0)\n",
    "plt.rcParams['image.interpolation'] = 'nearest'\n",
    "plt.rcParams['image.cmap'] = 'gray'\n",
    "# data to plot\n",
    "n_groups = 16\n",
    "means_train = [sorted_train_dict[k] for k in keys]\n",
    "means_valid = [sorted_valid_dict[k] for k in keys]\n",
    "means_test = [sorted_test_dict[k] for k in keys]\n",
    "\n",
    "# create plot\n",
    "fig, ax = plt.subplots()\n",
    "index = np.arange(n_groups)\n",
    "bar_width = 0.3\n",
    "opacity = 0.8\n",
    "\n",
    "rects1 = plt.bar(index, means_train, bar_width,\n",
    "alpha=opacity,\n",
    "color='b',\n",
    "label='train')\n",
    "\n",
    "rects2 = plt.bar(index + bar_width, means_valid, bar_width,\n",
    "alpha=opacity,\n",
    "color='g',\n",
    "label='valid')\n",
    "\n",
    "rects3 = plt.bar(index + 2 * bar_width, means_test, bar_width,\n",
    "alpha=opacity,\n",
    "color='r',\n",
    "label='test')\n",
    "\n",
    "plt.xlabel('Character')\n",
    "plt.ylabel('Number')\n",
    "plt.title('Character number for dataset')\n",
    "plt.xticks(index + bar_width, ('0', '1', '2', '3', '4', '5', '6', '7', '8', '9', '+', '-', '*', '=', '(', ')'))\n",
    "plt.legend()\n",
    "\n",
    "plt.tight_layout()\n",
    "plt.savefig('test_result/character_count.png')\n",
    "plt.show()"
   ]
  },
  {
   "cell_type": "markdown",
   "metadata": {
    "colab_type": "text",
    "id": "G-u8puqxGk0T"
   },
   "source": [
    "index=0:表示从零开始训练模型。\n",
    "\n",
    "index=1:表示接着saved_model中的模型继续训练。\n",
    "\n",
    "index=2:表示只评估saved_model中的模型性能而不做任何训练。"
   ]
  },
  {
   "cell_type": "code",
   "execution_count": 0,
   "metadata": {
    "colab": {
     "base_uri": "https://localhost:8080/",
     "height": 2016
    },
    "colab_type": "code",
    "executionInfo": {
     "elapsed": 12992701,
     "status": "ok",
     "timestamp": 1558986436599,
     "user": {
      "displayName": "haihua qiu",
      "photoUrl": "",
      "userId": "17771385401655364412"
     },
     "user_tz": -480
    },
    "id": "cMrjuETHoC4_",
    "outputId": "102fe69c-d9eb-4a4b-9314-09f25639b2fe"
   },
   "outputs": [
    {
     "name": "stdout",
     "output_type": "stream",
     "text": [
      "71200\n",
      "INFO:tensorflow:Restoring parameters from saved_model/crnn_model-89\n",
      "Model in validation dataset got 9899 / 10000 correct (98.99%)\n",
      "Starting epoch 90\n",
      "Iteration 72000, loss = 0.0015, accuary = 0.0000\n",
      "Model in validation dataset got 9880 / 10000 correct (98.80%)\n",
      "Model in training dataset got 79971 / 80000 correct (99.96%)\n",
      "\n",
      "Starting epoch 91\n",
      "Iteration 72800, loss = 0.0092, accuary = 0.0000\n",
      "Model in validation dataset got 9895 / 10000 correct (98.95%)\n",
      "\n",
      "Starting epoch 92\n",
      "Iteration 73600, loss = 0.0057, accuary = 0.0000\n",
      "Model in validation dataset got 9896 / 10000 correct (98.96%)\n",
      "\n",
      "Starting epoch 93\n",
      "Iteration 74400, loss = 0.1310, accuary = 0.0011\n",
      "Model in validation dataset got 9860 / 10000 correct (98.60%)\n",
      "\n",
      "Starting epoch 94\n",
      "Iteration 75200, loss = 0.0017, accuary = 0.0000\n",
      "Model in validation dataset got 9892 / 10000 correct (98.92%)\n",
      "\n",
      "Starting epoch 95\n",
      "Iteration 76000, loss = 0.0279, accuary = 0.0010\n",
      "Model in validation dataset got 9900 / 10000 correct (99.00%)\n",
      "\n",
      "Starting epoch 96\n",
      "Iteration 76800, loss = 0.0069, accuary = 0.0000\n",
      "Model in validation dataset got 9895 / 10000 correct (98.95%)\n",
      "\n",
      "Starting epoch 97\n",
      "Iteration 77600, loss = 0.0118, accuary = 0.0011\n",
      "Model in validation dataset got 9888 / 10000 correct (98.88%)\n",
      "\n",
      "Starting epoch 98\n",
      "Iteration 78400, loss = 0.0020, accuary = 0.0000\n",
      "Model in validation dataset got 9896 / 10000 correct (98.96%)\n",
      "\n",
      "Starting epoch 99\n",
      "Iteration 79200, loss = 0.0015, accuary = 0.0000\n",
      "Model in validation dataset got 9880 / 10000 correct (98.80%)\n",
      "\n",
      "Starting epoch 100\n",
      "Iteration 80000, loss = 0.0285, accuary = 0.0011\n",
      "Model in validation dataset got 9888 / 10000 correct (98.88%)\n",
      "Model in training dataset got 79981 / 80000 correct (99.98%)\n",
      "\n",
      "Starting epoch 101\n",
      "Iteration 80800, loss = 0.0010, accuary = 0.0000\n",
      "Model in validation dataset got 9899 / 10000 correct (98.99%)\n",
      "\n",
      "Starting epoch 102\n",
      "Iteration 81600, loss = 0.0023, accuary = 0.0000\n",
      "Model in validation dataset got 9901 / 10000 correct (99.01%)\n",
      "Model in test dataset got 9892 / 10000 correct (98.92%)\n",
      "\n",
      "Starting epoch 103\n",
      "Iteration 82400, loss = 0.0335, accuary = 0.0019\n",
      "Model in validation dataset got 9897 / 10000 correct (98.97%)\n",
      "\n",
      "Starting epoch 104\n",
      "Iteration 83200, loss = 0.0006, accuary = 0.0000\n",
      "Model in validation dataset got 9893 / 10000 correct (98.93%)\n",
      "\n",
      "Starting epoch 105\n",
      "Iteration 84000, loss = 0.0018, accuary = 0.0000\n",
      "Model in validation dataset got 9903 / 10000 correct (99.03%)\n",
      "Model in test dataset got 9869 / 10000 correct (98.69%)\n",
      "\n",
      "Starting epoch 106\n",
      "Iteration 84800, loss = 0.0132, accuary = 0.0012\n",
      "Model in validation dataset got 9905 / 10000 correct (99.05%)\n",
      "Model in test dataset got 9884 / 10000 correct (98.84%)\n",
      "\n",
      "Starting epoch 107\n",
      "Iteration 85600, loss = 0.0015, accuary = 0.0000\n",
      "Model in validation dataset got 9890 / 10000 correct (98.90%)\n",
      "\n",
      "Starting epoch 108\n",
      "Iteration 86400, loss = 0.0044, accuary = 0.0000\n",
      "Model in validation dataset got 9896 / 10000 correct (98.96%)\n",
      "\n",
      "Starting epoch 109\n",
      "Iteration 87200, loss = 0.0021, accuary = 0.0000\n",
      "Model in validation dataset got 9904 / 10000 correct (99.04%)\n",
      "Model in test dataset got 9899 / 10000 correct (98.99%)\n",
      "\n",
      "Starting epoch 110\n",
      "Iteration 88000, loss = 0.0031, accuary = 0.0000\n",
      "Model in validation dataset got 9900 / 10000 correct (99.00%)\n",
      "Model in training dataset got 79984 / 80000 correct (99.98%)\n",
      "\n",
      "Starting epoch 111\n",
      "Iteration 88800, loss = 0.0009, accuary = 0.0000\n",
      "Model in validation dataset got 9887 / 10000 correct (98.87%)\n",
      "\n",
      "Starting epoch 112\n",
      "Iteration 89600, loss = 0.0103, accuary = 0.0000\n",
      "Model in validation dataset got 9894 / 10000 correct (98.94%)\n",
      "\n",
      "Starting epoch 113\n",
      "Iteration 90400, loss = 0.0091, accuary = 0.0011\n",
      "Model in validation dataset got 9904 / 10000 correct (99.04%)\n",
      "Model in test dataset got 9888 / 10000 correct (98.88%)\n",
      "\n",
      "Starting epoch 114\n",
      "Iteration 91200, loss = 0.0020, accuary = 0.0000\n",
      "Model in validation dataset got 9914 / 10000 correct (99.14%)\n",
      "Model in test dataset got 9891 / 10000 correct (98.91%)\n",
      "\n",
      "Starting epoch 115\n",
      "Iteration 92000, loss = 0.0227, accuary = 0.0010\n",
      "Model in validation dataset got 9912 / 10000 correct (99.12%)\n",
      "Model in test dataset got 9904 / 10000 correct (99.04%)\n",
      "model train is successful\n",
      "Model in training dataset got 79995 / 80000 correct (99.99%)\n"
     ]
    },
    {
     "data": {
      "text/plain": [
       "1"
      ]
     },
     "execution_count": 9,
     "metadata": {
      "tags": []
     },
     "output_type": "execute_result"
    }
   ],
   "source": [
    "train(index=1, num_class=num_class, num_epochs=100)"
   ]
  },
  {
   "cell_type": "code",
   "execution_count": 0,
   "metadata": {
    "colab": {
     "base_uri": "https://localhost:8080/",
     "height": 125
    },
    "colab_type": "code",
    "executionInfo": {
     "elapsed": 449572,
     "status": "ok",
     "timestamp": 1559005398124,
     "user": {
      "displayName": "haihua qiu",
      "photoUrl": "",
      "userId": "17771385401655364412"
     },
     "user_tz": -480
    },
    "id": "mybYSN3Bz9Ti",
    "outputId": "27f9960a-be7b-46cc-d423-a6c7834f72ae"
   },
   "outputs": [
    {
     "name": "stdout",
     "output_type": "stream",
     "text": [
      "92000\n",
      "INFO:tensorflow:Restoring parameters from saved_model/crnn_model-115\n",
      "Model in training dataset got 79996 / 80000 correct (100.00%)\n",
      "Model in validation dataset got 9911 / 10000 correct (99.11%)\n",
      "Model in test dataset got 9900 / 10000 correct (99.00%)\n"
     ]
    },
    {
     "data": {
      "text/plain": [
       "0"
      ]
     },
     "execution_count": 6,
     "metadata": {
      "tags": []
     },
     "output_type": "execute_result"
    }
   ],
   "source": [
    "train(index=2, num_class=num_class, num_epochs=100)"
   ]
  },
  {
   "cell_type": "markdown",
   "metadata": {
    "colab_type": "text",
    "id": "zE33W_kNC7em"
   },
   "source": [
    "从result.csv中提取训练过程产生的loss和accuracy数据"
   ]
  },
  {
   "cell_type": "code",
   "execution_count": 0,
   "metadata": {
    "colab": {},
    "colab_type": "code",
    "id": "1x5UA0rOpmgM"
   },
   "outputs": [],
   "source": [
    "training_accuracy, validation_accuracy, loss = merge_record_data()"
   ]
  },
  {
   "cell_type": "markdown",
   "metadata": {
    "colab_type": "text",
    "id": "b_kYLkmADNLm"
   },
   "source": [
    "画损失函数变化图"
   ]
  },
  {
   "cell_type": "code",
   "execution_count": 0,
   "metadata": {
    "colab": {
     "base_uri": "https://localhost:8080/",
     "height": 513
    },
    "colab_type": "code",
    "executionInfo": {
     "elapsed": 1620,
     "status": "ok",
     "timestamp": 1559007401041,
     "user": {
      "displayName": "haihua qiu",
      "photoUrl": "",
      "userId": "17771385401655364412"
     },
     "user_tz": -480
    },
    "id": "yfJrEzDi8gVc",
    "outputId": "399ca84e-3794-47e5-fa3b-782354aabbe7"
   },
   "outputs": [
    {
     "data": {
      "image/png": "[encoded data removed]",
      "text/plain": [
       "<Figure size 720x576 with 1 Axes>"
      ]
     },
     "metadata": {
      "tags": []
     },
     "output_type": "display_data"
    }
   ],
   "source": [
    "plt.rcParams['figure.figsize'] = (10.0, 8.0)\n",
    "plt.rcParams['image.interpolation'] = 'nearest'\n",
    "plt.rcParams['image.cmap'] = 'gray'\n",
    "plt.figure()\n",
    "plt.title(\"training loss\")\n",
    "plt.plot(loss.keys(), list(loss.values()),color='r')\n",
    "#plt.legend()\n",
    "plt.xlabel(\"training iteration\")\n",
    "plt.ylabel(\"loss\")\n",
    "plt.savefig('test_result/loss.png')\n",
    "plt.show()"
   ]
  },
  {
   "cell_type": "markdown",
   "metadata": {
    "colab_type": "text",
    "id": "JDLtE7ZSDTUw"
   },
   "source": [
    "画识别准确率变化图\n",
    "\n",
    "注意：由于每隔1个epoch次数，保存一次验证集的准确率；而由于训练集具有80000个样本，所以为了降低训练时间，采取了每隔10个epoch次数才保存一次训练集的准确率的措施。因此，图像的0到8000迭代次数之间的曲线，无法反映训练集准确率的变化情况，这里是采用了线性插值的方法来填补0到8000迭代次数之间的准确率值。而超过8000迭代次数以后，训练集的准确率趋于饱和，则可以反映出训练集准确率的变化情况。"
   ]
  },
  {
   "cell_type": "code",
   "execution_count": 33,
   "metadata": {
    "colab": {
     "base_uri": "https://localhost:8080/",
     "height": 551
    },
    "colab_type": "code",
    "executionInfo": {
     "elapsed": 2076,
     "status": "ok",
     "timestamp": 1559009691913,
     "user": {
      "displayName": "haihua qiu",
      "photoUrl": "",
      "userId": "17771385401655364412"
     },
     "user_tz": -480
    },
    "id": "8Ln_YDpX9ROc",
    "outputId": "d3fb378f-3c59-4bbd-dfa5-b1e0adda3546"
   },
   "outputs": [
    {
     "name": "stdout",
     "output_type": "stream",
     "text": [
      "odict_keys([0.0, 8000.0, 16000.0, 24000.0, 32000.0, 40000.0, 48000.0, 56000.0, 64000.0, 72000.0, 80000.0, 88000.0, 92000.0]) odict_values([0.0, 97.27125, 98.63125, 99.0675, 99.5875, 99.7925, 99.8625, 99.93125, 99.9375, 99.96375, 99.97625, 99.98, 99.99375])\n"
     ]
    },
    {
     "data": {
      "image/png": "[encoded data removed]",
      "text/plain": [
       "<Figure size 720x576 with 1 Axes>"
      ]
     },
     "metadata": {
      "tags": []
     },
     "output_type": "display_data"
    }
   ],
   "source": [
    "print(training_accuracy.keys(),training_accuracy.values() )\n",
    "plt.rcParams['figure.figsize'] = (10.0, 8.0)\n",
    "plt.rcParams['image.interpolation'] = 'nearest'\n",
    "plt.rcParams['image.cmap'] = 'gray'\n",
    "plt.figure()\n",
    "plt.title(\"accuracy\")\n",
    "plt.plot(training_accuracy.keys(), list(training_accuracy.values()),color='b',label='training dataset accuracy')\n",
    "plt.plot(validation_accuracy.keys(), list(validation_accuracy.values()),color='g',label='validation dataset accuracy')\n",
    "plt.legend()\n",
    "plt.xlabel(\"training iteration\")\n",
    "plt.ylabel(\"accuracy (unit:%)\")\n",
    "plt.savefig('test_result/accuracy.png')\n",
    "plt.show()"
   ]
  },
  {
   "cell_type": "code",
   "execution_count": 0,
   "metadata": {
    "colab": {},
    "colab_type": "code",
    "id": "4zEIBsDnOACo"
   },
   "outputs": [],
   "source": []
  }
 ],
 "metadata": {
  "accelerator": "GPU",
  "colab": {
   "collapsed_sections": [],
   "name": "running_test.ipynb",
   "provenance": [],
   "version": "0.3.2"
  },
  "kernelspec": {
   "display_name": "Python 3",
   "language": "python",
   "name": "python3"
  },
  "language_info": {
   "codemirror_mode": {
    "name": "ipython",
    "version": 3
   },
   "file_extension": ".py",
   "mimetype": "text/x-python",
   "name": "python",
   "nbconvert_exporter": "python",
   "pygments_lexer": "ipython3",
   "version": "3.6.6"
  }
 },
 "nbformat": 4,
 "nbformat_minor": 1
}
